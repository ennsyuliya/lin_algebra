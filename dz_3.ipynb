{
 "cells": [
  {
   "cell_type": "markdown",
   "metadata": {},
   "source": [
    "## Практическое задание"
   ]
  },
  {
   "cell_type": "markdown",
   "metadata": {},
   "source": [
    "\n",
    "\n",
    "\n",
    "\n",
    "__1.__ Найдите собственные векторы и собственные значения для линейного оператора, заданного матрицей:\n",
    "\n",
    "$$A=\\begin{pmatrix}\n",
    "-1 & -6\\\\ \n",
    "2 & 6\n",
    "\\end{pmatrix}.$$\n",
    "\n"
   ]
  },
  {
   "cell_type": "markdown",
   "metadata": {},
   "source": [
    "Чтобы число $\\lambda$ было собственным значением оператора A, это число должно быть корнем характеристического уравнения оператора A.\n",
    "\n",
    "Характеристическое уравнение матрицы A:\n",
    "\n",
    "$$det(\\textbf{A}-\\lambda\\textbf{I})= \\begin{vmatrix}\n",
    "-1 -\\lambda & -6\\\\ \n",
    "2 & 6-\\lambda\n",
    "\\end{vmatrix} = \\lambda^2 -(-1+6)\\cdot\\lambda+(-1\\cdot6-(-6\\cdot2))=\\lambda^2-5\\lambda+6=0.$$\n",
    "\n",
    "\n",
    "Решим квдратное уравнение:\n",
    "\n",
    "$$\\lambda^2-5\\lambda+6=0.$$\n",
    "\n",
    "$$D=b^2-4ac=25-24=1$$\n",
    "\n",
    "$$\\lambda_{1,2}=\\frac{-b\\pm\\sqrt{D}}{2a}=\\frac{5\\pm1}{2}$$\n",
    "\n",
    "Значит корни характеристического уравнения:\n",
    "\n",
    "$$\\lambda_{1}=3$$\n",
    "\n",
    "$$\\lambda_{2}=2$$\n",
    "\n",
    "являются собственными значениями матрицы A.\n",
    "\n",
    "Найдем собственные векторы, подставив полученные собственные значения в выражение $$(\\textbf{A}-\\lambda\\textbf{I})x=0$$.\n",
    "\n",
    "\n",
    "$$(\\textbf{A}-\\lambda\\textbf{I})x=\\begin{pmatrix}\n",
    "-1 & -6\\\\ \n",
    "2 & 3\n",
    "\\end{pmatrix}\\cdot\\begin{pmatrix}\n",
    "x_{1}\\\\ \n",
    "x_{2}\n",
    "\\end{pmatrix}=0$$\n",
    "\n",
    "1. $$\\lambda_{1}=2$$"
   ]
  },
  {
   "cell_type": "markdown",
   "metadata": {},
   "source": [
    "$$\\begin{cases}\n",
    "-x_{1}-6\\cdot x_{2}= 2\\cdot x_{1}, \\\\\n",
    "2\\cdot x_{1}+6\\cdot x_{2}= 2\\cdot x_{2},\n",
    "\\end{cases}$$ \n",
    "\n",
    "$$\\begin{cases}\n",
    "-3\\cdot x_{1}= 6\\cdot x_{2}, \\\\\n",
    "2\\cdot x_{1}= -4\\cdot x_{2},\n",
    "\\end{cases}$$ "
   ]
  },
  {
   "cell_type": "markdown",
   "metadata": {},
   "source": [
    "2. $$\\lambda_{1}=3$$"
   ]
  },
  {
   "cell_type": "markdown",
   "metadata": {},
   "source": [
    "$$\\begin{cases}\n",
    "-x_{1}-6\\cdot x_{2}= 3\\cdot x_{1}, \\\\\n",
    "2\\cdot x_{1}+6\\cdot x_{2}= 3\\cdot x_{2},\n",
    "\\end{cases}$$ \n",
    "\n",
    "$$\\begin{cases}\n",
    "-4\\cdot x_{1}= 6\\cdot x_{2}, \\\\\n",
    "2\\cdot x_{1}= -3\\cdot x_{2},\n",
    "\\end{cases}$$ "
   ]
  },
  {
   "cell_type": "markdown",
   "metadata": {},
   "source": [
    "Ответ: cобственные значения: \n",
    "\n",
    "$$\\lambda _{1}=3,  \\lambda _{2}=2$$\n",
    "\n"
   ]
  },
  {
   "cell_type": "code",
   "execution_count": 2,
   "metadata": {},
   "outputs": [],
   "source": [
    "import numpy as np\n",
    "a = np.array([[-1, -6], [2, 6]])\n",
    "w, v = np.linalg.eig(a)\n"
   ]
  },
  {
   "cell_type": "code",
   "execution_count": 3,
   "metadata": {},
   "outputs": [
    {
     "name": "stdout",
     "output_type": "stream",
     "text": [
      "Собственные числа:\n",
      " [2. 3.]\n",
      "Собственные векторы:\n",
      " [[-0.89442719  0.83205029]\n",
      " [ 0.4472136  -0.5547002 ]]\n"
     ]
    }
   ],
   "source": [
    "print (\"Собственные числа:\\n\", w)\n",
    "print (\"Собственные векторы:\\n\", v)"
   ]
  },
  {
   "cell_type": "markdown",
   "metadata": {},
   "source": [
    "__2.__ Дан оператор поворота на 180 градусов, задаваемый матрицей:\n",
    "\n",
    "$$A=\\begin{pmatrix}\n",
    "-1 & 0\\\\ \n",
    "0 & -1\n",
    "\\end{pmatrix}.$$\n",
    "\n",
    "Покажите, что __любой__ вектор считается для него собственным.\n",
    "\n"
   ]
  },
  {
   "cell_type": "markdown",
   "metadata": {},
   "source": [
    "Возьмем некоторый вектор, сотоящий из произвольных констант:\n",
    "\n",
    "$$х=\\begin{pmatrix}\n",
    "С_{1}\\\\ \n",
    "С_{2}\n",
    "\\end{pmatrix}.$$\n",
    "\n",
    "и предположим, что этот вектор x является собственным вектором заданного линейного оператора, тогда должно существовать некоторое вещественное число $$\\lambda$$, при котором $$A_{x}=\\lambda_{x}$$, то есть:\n",
    "\n",
    "$$\\begin{pmatrix}\n",
    "-1 & 0\\\\ \n",
    "0 & -1\n",
    "\\end{pmatrix}\\begin{pmatrix}\n",
    "С_{1}\\\\ \n",
    "С_{2}\n",
    "\\end{pmatrix}=\\lambda\\begin{pmatrix}\n",
    "С_{1}\\\\ \n",
    "С_{2}\n",
    "\\end{pmatrix} $$"
   ]
  },
  {
   "cell_type": "markdown",
   "metadata": {},
   "source": [
    "Из этого следует:\n",
    "\n",
    "$$\\begin{cases}\n",
    "-C_{1}= -C_{1}\\cdot \\lambda \\\\\n",
    "-C_{2}= -C_{2}\\cdot \\lambda\n",
    "\\end{cases}\\Rightarrow \\lambda = -1$$ "
   ]
  },
  {
   "cell_type": "markdown",
   "metadata": {},
   "source": [
    "Ответ: любой вектор является собственным с собственным значением $$\\lambda = -1$$ "
   ]
  },
  {
   "cell_type": "code",
   "execution_count": 4,
   "metadata": {},
   "outputs": [],
   "source": [
    "b = np.array([[-1, 0], [0, -1]])\n",
    "n, m = np.linalg.eig(b)"
   ]
  },
  {
   "cell_type": "code",
   "execution_count": 5,
   "metadata": {},
   "outputs": [
    {
     "name": "stdout",
     "output_type": "stream",
     "text": [
      "Собственные числа:\n",
      " [-1. -1.]\n",
      "Собственные векторы:\n",
      " [[1. 0.]\n",
      " [0. 1.]]\n"
     ]
    }
   ],
   "source": [
    "print (\"Собственные числа:\\n\", n)\n",
    "print (\"Собственные векторы:\\n\", m)"
   ]
  },
  {
   "cell_type": "markdown",
   "metadata": {},
   "source": [
    "__3.__ Пусть линейный оператор задан матрицей:\n",
    "\n",
    "$$A=\\begin{pmatrix}\n",
    "1 & 1\\\\ \n",
    "-1 & 3\n",
    "\\end{pmatrix}.$$\n",
    "\n",
    "Установите, считается ли вектор $x=(1,1)$ собственным вектором этого линейного оператора."
   ]
  },
  {
   "cell_type": "markdown",
   "metadata": {},
   "source": [
    "$$\\begin{pmatrix}\n",
    "1 & 1\\\\ \n",
    "-1 & 3\n",
    "\\end{pmatrix}\\begin{pmatrix}\n",
    "1 \\\\ \n",
    "1 \n",
    "\\end{pmatrix} = \\lambda \\begin{pmatrix}\n",
    "1 \\\\ \n",
    "1 \n",
    "\\end{pmatrix}$$"
   ]
  },
  {
   "cell_type": "markdown",
   "metadata": {},
   "source": [
    "Из этого следует:\n",
    "\n",
    "$$\\begin{cases}\n",
    "1+1=1\\cdot\\lambda \\\\ \n",
    "-1+3 = 1\\cdot \\lambda\n",
    "\\end{cases}\n",
    "\\Rightarrow\n",
    "\\begin{cases}\n",
    "\\lambda=2\\\\ \n",
    "\\lambda=2\n",
    "\\end{cases}.$$"
   ]
  },
  {
   "cell_type": "markdown",
   "metadata": {},
   "source": [
    "Ответ: вектор $x=(1,1)$ считается собственным вектором линейного оператора, заданного матрицей A, и его собственное значение составляет $$\\lambda=2$$"
   ]
  },
  {
   "cell_type": "code",
   "execution_count": 6,
   "metadata": {},
   "outputs": [
    {
     "name": "stdout",
     "output_type": "stream",
     "text": [
      "Собственные числа:\n",
      " [2.00000002 1.99999998]\n",
      "Собственные векторы:\n",
      " [[ 0.70710677 -0.70710679]\n",
      " [ 0.70710679 -0.70710677]]\n"
     ]
    }
   ],
   "source": [
    "c = np.array([[1, 1], [-1, 3]])\n",
    "f, g = np.linalg.eig(c)\n",
    " \n",
    "print (\"Собственные числа:\\n\", f)\n",
    "print (\"Собственные векторы:\\n\", g)"
   ]
  },
  {
   "cell_type": "markdown",
   "metadata": {},
   "source": [
    "**4.** Пусть линейный оператор задан матрицей:\n",
    "\n",
    "$$A=\\begin{pmatrix} 0 & 3 & 0\\\\ 3 & 0 & 0\\\\ 0 & 0 & 3 \\end{pmatrix}.$$\n",
    "\n",
    "Установите, считается ли вектор $x=(3, -3, -4)$ собственным вектором этого линейного оператора."
   ]
  },
  {
   "cell_type": "markdown",
   "metadata": {},
   "source": [
    "\n",
    "$$\\begin{pmatrix}\n",
    "0 & 3 & 0\\\\ \n",
    "3 & 0 & 0\\\\\n",
    "0 & 0 & 3\n",
    "\\end{pmatrix}\n",
    "\\begin{pmatrix}\n",
    "3\\\\\n",
    "-3\\\\\n",
    "-4\n",
    "\\end{pmatrix}=\n",
    "\\lambda\n",
    "\\begin{pmatrix}\n",
    "3\\\\\n",
    "-3\\\\\n",
    "-4\n",
    "\\end{pmatrix}\n",
    "$$\n",
    "\n",
    "$$\\Rightarrow\n",
    "\\begin{cases}\n",
    "-9 = 3\\cdot\\lambda\\\\ \n",
    "9 = -3\\cdot \\lambda\\\\\n",
    "-12 = -4 \\cdot\\lambda\n",
    "\\end{cases}\n",
    "\\Rightarrow \n",
    "\\begin{cases}\n",
    "\\lambda=-3\\\\ \n",
    "\\lambda=-3\\\\\n",
    "\\lambda=3\n",
    "\\end{cases}$$\n",
    "\n",
    "Ответ:  вектор $x=(3,-3,-4)$ не является собственным вектором линейного оператора, заданного матрицей $A$."
   ]
  },
  {
   "cell_type": "code",
   "execution_count": 7,
   "metadata": {},
   "outputs": [
    {
     "name": "stdout",
     "output_type": "stream",
     "text": [
      "Матрица A:\n",
      "[[0 3 0]\n",
      " [3 0 0]\n",
      " [0 0 3]]\n",
      "Собственные значения:\n",
      "[ 3. -3.  3.]\n",
      "Собственные векторы:\n",
      "[[ 0.70710678 -0.70710678  0.        ]\n",
      " [ 0.70710678  0.70710678  0.        ]\n",
      " [ 0.          0.          1.        ]]\n"
     ]
    }
   ],
   "source": [
    "a = np.array([[0, 3, 0], [3, 0, 0], [0, 0, 3]])\n",
    "w, v = np.linalg.eig(a)\n",
    " \n",
    "print(f'Матрица A:\\n{a}')\n",
    "print(f'Собственные значения:\\n{w}')\n",
    "print(f'Собственные векторы:\\n{v}')"
   ]
  }
 ],
 "metadata": {
  "kernelspec": {
   "display_name": "Python 3.9.12 ('base')",
   "language": "python",
   "name": "python3"
  },
  "language_info": {
   "codemirror_mode": {
    "name": "ipython",
    "version": 3
   },
   "file_extension": ".py",
   "mimetype": "text/x-python",
   "name": "python",
   "nbconvert_exporter": "python",
   "pygments_lexer": "ipython3",
   "version": "3.9.12"
  },
  "orig_nbformat": 4,
  "vscode": {
   "interpreter": {
    "hash": "452c276e810072ac0d070a9ecbd74ba181ab2f9a45b11b5d9d043df0d8e763c9"
   }
  }
 },
 "nbformat": 4,
 "nbformat_minor": 2
}
