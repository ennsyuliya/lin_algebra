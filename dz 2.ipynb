{
 "cells": [
  {
   "cell_type": "markdown",
   "metadata": {},
   "source": [
    "Все задания рекомендуется делать вручную, проверяя полученные результаты через NumPy.\n",
    "\n",
    "__1.__ Установите, какие произведения матриц $AB$ и $BA$ определены, и найдите размерности полученных матриц:\n",
    "\n",
    "   а) $A$ — матрица $4\\times 2$, $B$ — матрица $4\\times 2$;\n",
    "    \n",
    "   б) $A$ — матрица $2\\times 5$, $B$ — матрица $5\\times 3$;\n",
    "    \n",
    "   в) $A$ — матрица $8\\times 3$, $B$ — матрица $3\\times 8$;\n",
    "    \n",
    "   г) $A$ — квадратная матрица $4\\times 4$, $B$ — квадратная матрица $4\\times 4$.\n",
    "    \n"
   ]
  },
  {
   "cell_type": "code",
   "execution_count": null,
   "metadata": {},
   "outputs": [],
   "source": []
  },
  {
   "cell_type": "markdown",
   "metadata": {},
   "source": [
    "а) Число столбцов матрицы А=2, число строк в матрице В=4 , значит умножение матриц АВ  не определено.\n",
    "\n",
    "Число столбцов матрицы В=2, число строк в матрице А=4, значит умножение матриц ВА не определено.\n",
    "\n",
    "б) Число столбцов матрицы А=5, число строк в матрице В=5 , значит умножение матриц АВ  определено. Размерность $AВ$ — матрица $2\\times 3$\n",
    "\n",
    "Число столбцов матрицы В=3, число строк в матрице В=2, значит умножение матриц ВА не определено.\n",
    "\n",
    "в) Число столбцов матрицы А=3, число строк в матрице В=3 , значит умножение матриц АВ  определено. Размерность $AВ$ — матрица $8\\times 8$\n",
    "\n",
    "Число столбцов матрицы В=8, число строк в матрице А=, значит умножение матриц ВА определено. Размерность $ВА$ — матрица $3\\times 3$\n",
    "\n",
    "г) Так как, $A$ — квадратная матрица $4\\times 4$, $B$ — квадратная матрица $4\\times 4$. Следовательно  размерность $ВА$ и $АВ$ — матрица $4\\times 4$"
   ]
  },
  {
   "cell_type": "markdown",
   "metadata": {},
   "source": [
    "__2.__ Найдите сумму и произведение матриц $A=\\begin{pmatrix}\n",
    "1 & -2\\\\ \n",
    "3 & 0\n",
    "\\end{pmatrix}$ и $B=\\begin{pmatrix}\n",
    "4 & -1\\\\ \n",
    "0 & 5\n",
    "\\end{pmatrix}.$\n",
    "\n"
   ]
  },
  {
   "cell_type": "markdown",
   "metadata": {},
   "source": [
    "$$A\\cdot B=\\begin{pmatrix}\n",
    "1\\cdot4+-2\\cdot0 & 1\\cdot(-1)+2\\cdot5\\\\  \n",
    "3\\cdot4+0\\cdot0 & 3\\cdot(-1)+0\\cdot5 \n",
    "\\end{pmatrix}=\\begin{pmatrix}\n",
    "4 & -11\\\\ \n",
    "12 & -3\n",
    "\\end{pmatrix}.$$\n",
    "\n",
    "\n",
    "$$B\\cdot A=\\begin{pmatrix}\n",
    "4\\cdot1+(-1)\\cdot3 & 4\\cdot(-2)+(-1)\\cdot0\\\\  \n",
    "0\\cdot1+5\\cdot3 & 0\\cdot(-2)+5\\cdot0 \n",
    "\\end{pmatrix}=\\begin{pmatrix}\n",
    "1 & -8\\\\ \n",
    "15 & 0\n",
    "\\end{pmatrix}.$$"
   ]
  },
  {
   "cell_type": "code",
   "execution_count": 12,
   "metadata": {},
   "outputs": [
    {
     "name": "stdout",
     "output_type": "stream",
     "text": [
      "Матрица A\n",
      "[[ 1 -2]\n",
      " [ 3  0]]\n",
      "Матрица B\n",
      "[[ 4 -1]\n",
      " [ 0  5]]\n",
      "Матрица AB\n",
      "[[  4 -11]\n",
      " [ 12  -3]]\n",
      "Матрица BA\n",
      "[[ 1 -8]\n",
      " [15  0]]\n"
     ]
    }
   ],
   "source": [
    "import numpy as np\n",
    "A = np.array([[1, -2], [3, 0]])\n",
    "B = np.array([[4, -1], [0, 5]])\n",
    "\n",
    "print(f'Матрица A\\n{A}')\n",
    "print(f'Матрица B\\n{B}')\n",
    "print(f'Матрица AB\\n{np.dot(A, B)}')\n",
    "print(f'Матрица BA\\n{np.dot(B, A)}')"
   ]
  },
  {
   "cell_type": "markdown",
   "metadata": {},
   "source": [
    "__3.__ Из закономерностей сложения и умножения матриц на число можно сделать вывод, что матрицы одного размера образуют линейное пространство. Вычислите линейную комбинацию $3A-2B+4C$ для матриц $A=\\begin{pmatrix}\n",
    "1 & 7\\\\ \n",
    "3 & -6\n",
    "\\end{pmatrix}$, $B=\\begin{pmatrix}\n",
    "0 & 5\\\\ \n",
    "2 & -1\n",
    "\\end{pmatrix}$, $C=\\begin{pmatrix}\n",
    "2 & -4\\\\ \n",
    "1 & 1\n",
    "\\end{pmatrix}.$\n",
    "    \n"
   ]
  },
  {
   "cell_type": "markdown",
   "metadata": {},
   "source": [
    "$$3А- 2В + 4С = \n",
    "3\\begin{pmatrix}\n",
    "1 & 7 \\\\ \n",
    "3 & -6\\\\ \n",
    "\\end{pmatrix} - 2\\begin{pmatrix}\n",
    "0 & 5 \\\\ \n",
    "2 & -1\\\\ \n",
    "\\end{pmatrix} + 4\\begin{pmatrix}\n",
    "2 & -4 \\\\ \n",
    "1 & 1\\\\ \n",
    "\\end{pmatrix} = \\begin{pmatrix}\n",
    "3 & 21 \\\\ \n",
    "9 & -18\\\\ \n",
    "\\end{pmatrix} - \\begin{pmatrix}\n",
    "0 & 10 \\\\ \n",
    "4 & -2\\\\ \n",
    "\\end{pmatrix} + \\begin{pmatrix}\n",
    "8 & -16 \\\\ \n",
    "4 & 4\\\\ \n",
    "\\end{pmatrix} = \\begin{pmatrix}\n",
    "11 & -5 \\\\ \n",
    "9 & -12\\\\ \n",
    "\\end{pmatrix}$$"
   ]
  },
  {
   "cell_type": "code",
   "execution_count": 2,
   "metadata": {},
   "outputs": [
    {
     "name": "stdout",
     "output_type": "stream",
     "text": [
      "3A - 2B + 4C =\n",
      "[[ 11  -5]\n",
      " [  9 -12]]\n",
      "\n"
     ]
    }
   ],
   "source": [
    "A = np.array([[1, 7], [3, -6]])\n",
    "B = np.array([[0, 5], [2, -1]])\n",
    "C = np.array([[2, -4], [1, 1]])\n",
    "\n",
    "print(f'3A - 2B + 4C =\\n{3 * A - 2 * B + 4 * C}\\n')"
   ]
  },
  {
   "cell_type": "markdown",
   "metadata": {},
   "source": [
    "__4.__ Дана матрица $A=\\begin{pmatrix}\n",
    "4 & 1\\\\ \n",
    "5 & -2\\\\ \n",
    "2 & 3\n",
    "\\end{pmatrix}$.\n",
    "Вычислите $AA^{T}$ и $A^{T}A$.\n",
    "\n"
   ]
  },
  {
   "cell_type": "markdown",
   "metadata": {},
   "source": [
    "\n",
    "$$A=\\begin{pmatrix}\n",
    "4 & 1\\\\ \n",
    "5 & -2\\\\  \n",
    "2 & 3\n",
    "\\end{pmatrix}, \\;A^{T}=\\begin{pmatrix}\n",
    "4 & 3 & 2\\\\ \n",
    "1 & -2 & 3\n",
    "\\end{pmatrix}.$$"
   ]
  },
  {
   "cell_type": "markdown",
   "metadata": {},
   "source": [
    "$$A\\cdot A^{T} =\\begin{pmatrix}\n",
    "4 & 1\\\\ \n",
    "5 & -2\\\\  \n",
    "2 & 3\n",
    "\\end{pmatrix} \\cdot \\begin{pmatrix}\n",
    "4 & 3 & 2\\\\ \n",
    "1 & -2 & 3\n",
    "\\end{pmatrix} = \\begin{pmatrix}\n",
    "4\\cdot4+1\\cdot1 & 4\\cdot5+1\\cdot(-2) & 4\\cdot2+1\\cdot3\\\\  \n",
    "5\\cdot4+(-2)\\cdot1 & 5\\cdot5+(-2)\\cdot(-2) & 5\\cdot2+(-2)\\cdot3\\\\  \n",
    "2\\cdot4+3\\cdot1 & 2\\cdot5+3\\cdot(-2) & 2\\cdot2+3\\cdot3\n",
    "\\end{pmatrix}=\\begin{pmatrix}\n",
    "17 & 18 & 11\\\\ \n",
    "18 & 29 & 4 \\\\\n",
    "11 & 4 & 13\n",
    "\\end{pmatrix}.$$"
   ]
  },
  {
   "cell_type": "markdown",
   "metadata": {},
   "source": [
    "$$A^{T}\\cdot A =\\begin{pmatrix}\n",
    "4 & 5 & 2\\\\ \n",
    "1 & -2 & 3\n",
    "\\end{pmatrix} \\cdot \\begin{pmatrix}\n",
    "4 & 1\\\\\n",
    "5 & -2\\\\ \n",
    "2 & 3\n",
    "\\end{pmatrix} = \\begin{pmatrix}\n",
    "4\\cdot4+5\\cdot5+2\\cdot2 & 4\\cdot1+5\\cdot(-2)+2\\cdot3\\\\  \n",
    "1\\cdot4+(-2)\\cdot5+3\\cdot2 & 1\\cdot1+(-2)\\cdot(-2)+3\\cdot3\n",
    "\\end{pmatrix}=\\begin{pmatrix}\n",
    "45 & 0 \\\\\n",
    "0 & 14\n",
    "\\end{pmatrix}.$$"
   ]
  },
  {
   "cell_type": "code",
   "execution_count": 13,
   "metadata": {},
   "outputs": [
    {
     "name": "stdout",
     "output_type": "stream",
     "text": [
      "A^T =\n",
      "[[ 4  5  2]\n",
      " [ 1 -2  3]]\n",
      "\n",
      "A * A^T =\n",
      "[[17 18 11]\n",
      " [18 29  4]\n",
      " [11  4 13]]\n",
      "\n",
      "A^T * A =\n",
      "[[45  0]\n",
      " [ 0 14]]\n",
      "\n"
     ]
    }
   ],
   "source": [
    "A = np.array([[4, 1], [5, -2], [2, 3]])\n",
    "A_T = A.T\n",
    "\n",
    "print(f'A^T =\\n{A_T}\\n')\n",
    "print(f'A * A^T =\\n{np.dot(A, A_T)}\\n')\n",
    "print(f'A^T * A =\\n{np.dot(A_T, A)}\\n')"
   ]
  },
  {
   "cell_type": "markdown",
   "metadata": {},
   "source": [
    "__5*.__ Напишите на Python функцию для перемножения двух произвольных матриц, не используя NumPy."
   ]
  },
  {
   "cell_type": "code",
   "execution_count": 4,
   "metadata": {},
   "outputs": [],
   "source": [
    "class Matrix:\n",
    "    \"\"\"\n",
    "    Класс для описания объекта \"матрица\"\n",
    "    \"\"\"\n",
    "\n",
    "    def __init__(self, data):\n",
    "        \"\"\"\n",
    "        Конструктор класса\n",
    "        :param data: [[a11, a12, a13], [a21, a22, a23], ... ] список строк, где каждая строка тоже список\n",
    "        \"\"\"\n",
    "        # Множество всех размеров строк\n",
    "        rows_sizes = set([len(row) for row in data])\n",
    "        \n",
    "        # Матрица определяется только в том случае, если все строки имеют одинаковое число элементов\n",
    "        self.data = data if len(rows_sizes) == 1 else []\n",
    "\n",
    "    def __str__(self):\n",
    "        rows_str = ['\\t'.join(map(str, row)) for row in self.data]\n",
    "        return '\\n'.join(rows_str)\n",
    "\n",
    "    def __add__(self, other):\n",
    "        if self.is_size_equal(other):\n",
    "            result = [list(map(lambda x, y: x + y, self.data[i], other.data[i])) for i in range(len(self.data))]\n",
    "            return Matrix(result)\n",
    "        else:\n",
    "            return None\n",
    "    \n",
    "    def __mul__(self, other):\n",
    "        # Если матрицы не согласованы, то умножение не определено\n",
    "        if self.columns_count != other.rows_count:\n",
    "            return None\n",
    "        \n",
    "        self_rows = len(self.data)\n",
    "        other_rows = len(other.data)\n",
    "        other_columns = len(other.data[0])\n",
    "        \n",
    "        result = [[None for _ in range(other_columns)] for _ in range(self_rows)]\n",
    "        for i in range(self_rows):\n",
    "            for j in range(other_columns):       \n",
    "                result[i][j] = sum(self.data[i][k] * other.data[k][j] for k in range(other_rows))\n",
    "        return Matrix(result)\n",
    "\n",
    "    @property\n",
    "    def rows_count(self):\n",
    "        return len(self.data)\n",
    "\n",
    "    @property\n",
    "    def columns_count(self):\n",
    "        return len(self.data[0]) if self.data else 0\n",
    "    \n",
    "    def is_size_equal(self, other):\n",
    "        \"\"\"\n",
    "        Определяет имеют ли матрицы одинаковое количество строк и столбцов\n",
    "        :param other: объект класса Matrix\n",
    "        :return: True, если матрицы имеют одинаковое количество строк и столбцов, иначе False\n",
    "        \"\"\"\n",
    "        return self.rows_count == other.rows_count and self.columns_count == other.columns_count"
   ]
  },
  {
   "cell_type": "code",
   "execution_count": 14,
   "metadata": {},
   "outputs": [
    {
     "name": "stdout",
     "output_type": "stream",
     "text": [
      "A = \n",
      "4\t1\n",
      "5\t-2\n",
      "2\t3\n",
      "\n",
      "A_T = \n",
      "4\t5\t2\n",
      "1\t-2\t3\n",
      "\n",
      "A + A =\n",
      "8\t2\n",
      "10\t-4\n",
      "4\t6\n",
      "\n",
      "A_T + A_T =\n",
      "8\t10\t4\n",
      "2\t-4\t6\n",
      "\n",
      "A * A_T =\n",
      "17\t18\t11\n",
      "18\t29\t4\n",
      "11\t4\t13\n",
      "\n",
      "A_T * A =\n",
      "45\t0\n",
      "0\t14\n",
      "\n"
     ]
    }
   ],
   "source": [
    "# Проверим на примере задания 4\n",
    "A = Matrix([[4, 1], [5, -2], [2, 3]])\n",
    "A_T = Matrix([[4, 5, 2], [1, -2, 3]])\n",
    "\n",
    "print(f'A = \\n{A}\\n')\n",
    "print(f'A_T = \\n{A_T}\\n')\n",
    "\n",
    "print(f'A + A =\\n{A + A}\\n')\n",
    "print(f'A_T + A_T =\\n{A_T + A_T}\\n')\n",
    "print(f'A * A_T =\\n{A * A_T}\\n')\n",
    "print(f'A_T * A =\\n{A_T * A}\\n')"
   ]
  },
  {
   "cell_type": "markdown",
   "metadata": {},
   "source": [
    "Все задания рекомендуется выполнять вручную, проверяя полученные результаты с использованием NumPy.\n",
    "\n",
    "__1.__ Вычислите определитель:\n",
    "\n",
    "   a)\n",
    "\n",
    "$$\\begin{vmatrix}\n",
    "sinx & -cosx\\\\ \n",
    "cosx & sinx\n",
    "\\end{vmatrix} = sinx^2-cosx^2 = 1$$\n",
    "\n"
   ]
  },
  {
   "cell_type": "markdown",
   "metadata": {},
   "source": [
    "   б)\n",
    "    \n",
    "$$\\begin{vmatrix}\n",
    "4 & 2 & 3\\\\ \n",
    "0 & 5 & 1\\\\ \n",
    "0 & 0 & 9\n",
    "\\end{vmatrix} = 4\\begin{vmatrix}\n",
    "5 & 1\\\\ \n",
    "0 & 9\n",
    "\\end{vmatrix} = 4(5\\cdot9-1\\cdot0) = 180$$\n",
    "\n",
    "\n",
    "$$A\\cdot A^{T} =\\begin{pmatrix}\n",
    "4 & 1\\\\ \n",
    "5 & -2\\\\  \n",
    "2 & 3\n",
    "\\end{pmatrix} \\cdot \\begin{pmatrix}\n",
    "4 & 3 & 2\\\\ \n",
    "1 & -2 & 3\n",
    "\\end{pmatrix} = \\begin{pmatrix}\n",
    "4\\cdot4+1\\cdot1 & 4\\cdot5+1\\cdot(-2) & 4\\cdot2+1\\cdot3\\\\  \n",
    "5\\cdot4+(-2)\\cdot1 & 5\\cdot5+(-2)\\cdot(-2) & 5\\cdot2+(-2)\\cdot3\\\\  \n",
    "2\\cdot4+3\\cdot1 & 2\\cdot5+3\\cdot(-2) & 2\\cdot2+3\\cdot3\n",
    "\\end{pmatrix}=\\begin{pmatrix}\n",
    "17 & 18 & 11\\\\ \n",
    "18 & 29 & 4 \\\\\n",
    "11 & 4 & 13\n",
    "\\end{pmatrix}.$$\n",
    "    \n"
   ]
  },
  {
   "cell_type": "markdown",
   "metadata": {},
   "source": [
    "   в)\n",
    "\n",
    "$$\\begin{vmatrix}\n",
    "1 & 2 & 3\\\\ \n",
    "4 & 5 & 6\\\\ \n",
    "7 & 8 & 9\n",
    "\\end{vmatrix} = \\begin{vmatrix}\n",
    "5 & 6\\\\ \n",
    "8 & 9\n",
    "\\end{vmatrix} - 2\\begin{vmatrix}\n",
    "4 & 6\\\\ \n",
    "7 & 9\n",
    "\\end{vmatrix} + 3\\begin{vmatrix}\n",
    "4 & 5\\\\ \n",
    "7 & 8 \n",
    "\\end{vmatrix} = (45-48)-2(36-42)+3(32-35)=0 $$\n",
    "\n"
   ]
  },
  {
   "cell_type": "markdown",
   "metadata": {},
   "source": [
    "\n",
    "__2.__ Определитель матрицы $A$ равен $4$. Найдите:\n",
    "\n",
    "   а) $det(A^{2})$;\n",
    "\n",
    "   По свойству определителя для двух квадратных матриц одинакового размера\n",
    "\n",
    "\n",
    "   $det(A^{2})$ = det A det B;\n",
    "\n",
    "   Следовательно: \n",
    "\n",
    "   $det(A^{2})$ = $(det A)^{2} = 16$\n",
    "\n",
    "\n",
    "   \n"
   ]
  },
  {
   "cell_type": "markdown",
   "metadata": {},
   "source": [
    "   б) $det(A^{T})$;\n",
    "    \n",
    "   Определитель транспонированной матрицы равен определителю исходной:\n",
    "\n",
    "   $$detA^{T}=detA.$$\n",
    "\n",
    "Следовательно \n",
    "\n",
    " $det(A^{T}) = 4$"
   ]
  },
  {
   "cell_type": "markdown",
   "metadata": {},
   "source": [
    "  в) $det(2A)$.\n",
    "\n",
    "\n",
    "  По свойству определителя умножение строки на число приведет к умножению матрицы на то же число. По условию каждая строка матрицы умножается на два, тогда\n",
    "\n",
    "$det(2A) = 2^n det A = 2^n\\cdot4$\n"
   ]
  },
  {
   "cell_type": "code",
   "execution_count": 15,
   "metadata": {},
   "outputs": [
    {
     "name": "stdout",
     "output_type": "stream",
     "text": [
      "det A = 4.0\n",
      "dim A = (3, 3)\n",
      "\n",
      "а) det A^2 = 15.999999999999998\n",
      "б) det A^T = 4.0\n",
      "в) det 2A = 32.0\n"
     ]
    }
   ],
   "source": [
    "# Проверим на примере произвольной невырожденной матрицы размерности 3\n",
    "A = np.array([[4, 0, 0], [0, 1, 0], [0, 0, 1]])\n",
    "\n",
    "print(f'det A = {np.linalg.det(A)}')\n",
    "print(f'dim A = {A.shape}\\n')\n",
    "\n",
    "print(f'а) det A^2 = {np.linalg.det(np.linalg.matrix_power(A, 2))}')\n",
    "print(f'б) det A^T = {np.linalg.det(A.T)}')\n",
    "print(f'в) det 2A = {np.linalg.det(2 * A)}')"
   ]
  },
  {
   "cell_type": "markdown",
   "metadata": {},
   "source": [
    "__3.__  Докажите, что матрица:\n",
    "\n",
    "$$\\begin{pmatrix}\n",
    "-2 & 7 & -3\\\\ \n",
    "4 & -14 & 6\\\\ \n",
    "-3 & 7 & 13\n",
    "\\end{pmatrix}$$\n",
    "   \n",
    "вырожденная.\n",
    "\n",
    "Матрица называется сингулярной или вырожденной, если её определитель равен нулю.\n",
    "\n",
    "Первая и вторая строки этой матрицы линейно зависимы, поэтому определитель равен 0. Проверим это, вычислим определитель\n",
    "\n",
    "$$\\begin{pmatrix}\n",
    "-2 & 7 & -3\\\\ \n",
    "4 & -14 & 6\\\\ \n",
    "-3 & 7 & 13\n",
    "\\end{pmatrix} = -2\\begin{pmatrix}\n",
    "-14 & 6\\\\ \n",
    "7 & 13\n",
    "\\end{pmatrix} -7 \\begin{pmatrix}\n",
    "4  & 6\\\\ \n",
    "-3 & 13\n",
    "\\end{pmatrix} -3\\begin{pmatrix} \n",
    "4 & -14\\\\ \n",
    "-3 & 7\n",
    "\\end{pmatrix} =-2(-182-42)-7(52+18)-3(28-42)=448-490+42=0$$\n"
   ]
  },
  {
   "cell_type": "markdown",
   "metadata": {},
   "source": [
    "__4.__ Найдите ранг матрицы:\n",
    "\n",
    "   а) $\\begin{pmatrix}\n",
    "1 & 2 & 3\\\\ \n",
    "1 & 1 & 1\\\\ \n",
    "2 & 3 & 4\n",
    "\\end{pmatrix};$\n",
    "\n",
    "Вычтем из второй строки первую строку, а из третьей - первую строку, умноженную на 2, получим\n",
    "\n",
    "$\\begin{pmatrix}\n",
    "1 & 2 & 3\\\\ \n",
    "0 & -1 & -2\\\\ \n",
    "0 & -1 & -2\n",
    "\\end{pmatrix};$\n",
    "\n",
    "Третья строка - линейная комбинация первых двух строк, поэтому ее можно отбросить, получим\n",
    "\n",
    "$\\begin{pmatrix}\n",
    "1 & 2 & 3\\\\ \n",
    "0 & -1 & -2\n",
    "\\end{pmatrix};$\n",
    "\n",
    "Таким образом ранг матрицы равен 2."
   ]
  },
  {
   "cell_type": "code",
   "execution_count": 16,
   "metadata": {},
   "outputs": [
    {
     "name": "stdout",
     "output_type": "stream",
     "text": [
      "Ранг матрицы: 2\n"
     ]
    }
   ],
   "source": [
    "x = [1, 2, 3]\n",
    "y = [1, 1, 1]\n",
    "z = [2, 3, 4]\n",
    "\n",
    "a = np.array([x, y, z])\n",
    "r = np.linalg.matrix_rank(a)\n",
    "\n",
    "print(f'Ранг матрицы: {r}')"
   ]
  },
  {
   "cell_type": "markdown",
   "metadata": {},
   "source": [
    "\n",
    "\n",
    "   б) $\\begin{pmatrix}\n",
    "0 & 0 & 2 & 1\\\\ \n",
    "0 & 0 & 2 & 2\\\\ \n",
    "0 & 0 & 4 & 3\\\\ \n",
    "2 & 3 & 5 & 6\n",
    "\\end{pmatrix}$\n",
    "\n",
    "Переставим первую и четвертую строки местами\n",
    "\n",
    "$\\begin{pmatrix}\n",
    "2 & 3 & 5 & 6\\\\ \n",
    "0 & 0 & 2 & 2\\\\ \n",
    "0 & 0 & 4 & 3\\\\ \n",
    "0 & 0 & 2 & 1\n",
    "\\end{pmatrix}$\n",
    "\n",
    "Вычтем из третьей строки вторую строку, умноженную на 2, а из четвертой - вторую строку получим\n",
    "\n",
    "$\\begin{pmatrix}\n",
    "2 & 3 & 5 & 6\\\\ \n",
    "0 & 0 & 2 & 2\\\\ \n",
    "0 & 0 & 0 & -1\\\\ \n",
    "0 & 0 & 0 & -1\n",
    "\\end{pmatrix}$\n",
    "\n",
    "Четвертая строка - линейная комбинация первых двух строк, поэтому ее можно отбросить, получим\n",
    "\n",
    "$\\begin{pmatrix}\n",
    "2 & 3 & 5 & 6\\\\ \n",
    "0 & 0 & 2 & 2\\\\ \n",
    "0 & 0 & 0 & -1\n",
    "\\end{pmatrix}$\n",
    "\n",
    "Таким образом ранг матрицы равен 3."
   ]
  },
  {
   "cell_type": "code",
   "execution_count": 17,
   "metadata": {},
   "outputs": [
    {
     "name": "stdout",
     "output_type": "stream",
     "text": [
      "б) rank A = 3\n"
     ]
    }
   ],
   "source": [
    "A = np.array([[0, 0, 2, 1], [0, 0, 2, 2], [0, 0, 4, 3], [2, 3, 5, 6]])\n",
    "print(f'б) rank A = {np.linalg.matrix_rank(A)}')"
   ]
  }
 ],
 "metadata": {
  "kernelspec": {
   "display_name": "Python 3.9.12 ('base')",
   "language": "python",
   "name": "python3"
  },
  "language_info": {
   "codemirror_mode": {
    "name": "ipython",
    "version": 3
   },
   "file_extension": ".py",
   "mimetype": "text/x-python",
   "name": "python",
   "nbconvert_exporter": "python",
   "pygments_lexer": "ipython3",
   "version": "3.9.12"
  },
  "orig_nbformat": 4,
  "vscode": {
   "interpreter": {
    "hash": "452c276e810072ac0d070a9ecbd74ba181ab2f9a45b11b5d9d043df0d8e763c9"
   }
  }
 },
 "nbformat": 4,
 "nbformat_minor": 2
}
